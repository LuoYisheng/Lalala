print ("Hey it's a python script!")
from pandas import read_csv 
data = read_csv('https://dl.dropboxusercontent.com/u/58264487/test.csv')
data.describe()
