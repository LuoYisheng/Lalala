print ("Hey it's a python script!")
import read_csv from pandas
data = read_csv(https://dl.dropboxusercontent.com/u/58264487/test.csv)
data.describe()
